{
  "nbformat": 4,
  "nbformat_minor": 0,
  "metadata": {
    "colab": {
      "name": "NLEassignment1.ipynb",
      "provenance": [],
      "collapsed_sections": []
    },
    "kernelspec": {
      "name": "python3",
      "display_name": "Python 3"
    }
  },
  "cells": [
    {
      "cell_type": "markdown",
      "metadata": {
        "id": "f2S8I2ny-ovS"
      },
      "source": [
        "# NLE Assignment 1: Books vs DVDs\n",
        "\n",
        "In this assignment, you will be investigating NLP methods for distinguishing reviews written about books from reviews written about DVDs.\n",
        "\n",
        "For assessment, you are expected to complete and submit this notebook file.  When answers require code, you may import and use library functions (unless explicitly told otherwise).  All of your own code should be included in the notebook rather than imported from elsewhere.  Written answers should also be included in the notebook.  You should insert as many extra cells as you want and change the type between code and markdown as appropriate.\n",
        "\n",
        "In order to avoid misconduct, you should not talk about the assignment questions with your peers.  If you are not sure what a question is asking you to do or have any other questions, please ask me or one of the Teaching Assistants.\n",
        "\n",
        "Marking guidelines are provided as a separate document.\n",
        "\n",
        "The first few cells contain code to set-up the assignment and bring in some data.   In order to provide unique datasets for analysis by different students, you must enter your candidate number in the following cell.  Otherwise do not change the code in these cells."
      ]
    },
    {
      "cell_type": "code",
      "metadata": {
        "id": "1gXQAZas-l9c"
      },
      "source": [
        "candidateno = 215816 #this MUST be updated to your candidate number so that you get a unique data sample\n"
      ],
      "execution_count": 86,
      "outputs": []
    },
    {
      "cell_type": "code",
      "metadata": {
        "id": "xXshmwtaBTGm",
        "outputId": "da9ccd47-a475-4ec5-aaa5-1bb8a4bc2895",
        "colab": {
          "base_uri": "https://localhost:8080/"
        }
      },
      "source": [
        "#set up drives for resources.  Change the path as necessary\n",
        "\n",
        "from google.colab import drive\n",
        "#mount google drive\n",
        "drive.mount('/content/drive/')\n",
        "import sys\n",
        "sys.path.append('/content/drive/My Drive/NLE Notebooks/resources/')\n"
      ],
      "execution_count": 87,
      "outputs": [
        {
          "output_type": "stream",
          "text": [
            "Drive already mounted at /content/drive/; to attempt to forcibly remount, call drive.mount(\"/content/drive/\", force_remount=True).\n"
          ],
          "name": "stdout"
        }
      ]
    },
    {
      "cell_type": "code",
      "metadata": {
        "id": "nk8JTP88A8vs",
        "outputId": "c042c459-46db-461e-fc78-d5a00d38d313",
        "colab": {
          "base_uri": "https://localhost:8080/"
        }
      },
      "source": [
        "#do not change the code in this cell\n",
        "#preliminary imports\n",
        "\n",
        "#for setting up training and testing data\n",
        "from sussex_nltk.corpus_readers import AmazonReviewCorpusReader\n",
        "import random\n",
        "\n",
        "#set up nltk\n",
        "import nltk\n",
        "nltk.download('punkt')\n",
        "nltk.download('stopwords')\n",
        "from nltk.corpus import stopwords\n",
        "from nltk.tokenize import word_tokenize\n",
        "\n",
        "#useful other tools\n",
        "import re\n",
        "import pandas as pd\n",
        "import matplotlib.pyplot as plt\n",
        "# %matplotlib inline\n",
        "from itertools import zip_longest\n"
      ],
      "execution_count": 88,
      "outputs": [
        {
          "output_type": "stream",
          "text": [
            "[nltk_data] Downloading package punkt to /root/nltk_data...\n",
            "[nltk_data]   Package punkt is already up-to-date!\n",
            "[nltk_data] Downloading package stopwords to /root/nltk_data...\n",
            "[nltk_data]   Package stopwords is already up-to-date!\n"
          ],
          "name": "stdout"
        }
      ]
    },
    {
      "cell_type": "code",
      "metadata": {
        "id": "BHBkzAccCVaZ"
      },
      "source": [
        "#do not change the code in this cell\n",
        "def split_data(data, ratio=0.7): # when the second argument is not given, it defaults to 0.7\n",
        "    \"\"\"\n",
        "    Given corpus generator and ratio:\n",
        "     - partitions the corpus into training data and test data, where the proportion in train is ratio,\n",
        "\n",
        "    :param data: A corpus generator.\n",
        "    :param ratio: The proportion of training documents (default 0.7)\n",
        "    :return: a pair (tuple) of lists where the first element of the \n",
        "            pair is a list of the training data and the second is a list of the test data.\n",
        "    \"\"\"\n",
        "    \n",
        "    data = list(data)  \n",
        "    n = len(data)  \n",
        "    train_indices = random.sample(range(n), int(n * ratio))          \n",
        "    test_indices = list(set(range(n)) - set(train_indices))    \n",
        "    train = [data[i] for i in train_indices]           \n",
        "    test = [data[i] for i in test_indices]             \n",
        "    return (train, test)                       \n",
        " \n",
        "\n",
        "def feature_extract(review):\n",
        "    \"\"\"\n",
        "    Generate a feature representation for a review\n",
        "    :param review: AmazonReview object\n",
        "    :return: dictionary of Boolean features\n",
        "    \"\"\"\n",
        "    return {word:True for word in review.words()}\n",
        "\n",
        "def get_training_test_data(categories=('book','dvd'),ratio=0.7,seed=candidateno):\n",
        "    \"\"\"\n",
        "    Get training and test data for a given pair of categories and ratio, pre-formatted for use with NB classifier\n",
        "    :param category: pair of categories of review corpus, two from [\"kitchen, \"dvd, \"book\", \"electronics\"]\n",
        "    :param ratio: proportion of data to use as training data\n",
        "    :return: pair of lists \n",
        "    \"\"\"\n",
        "    random.seed(candidateno)\n",
        "\n",
        "    train_data=[]\n",
        "    test_data=[]\n",
        "    for category in categories:\n",
        "      reader=AmazonReviewCorpusReader().category(category)    \n",
        "      train, test = split_data(reader.documents(),ratio=ratio)\n",
        "   \n",
        "      train_data+=[(feature_extract(review),category)for review in train]\n",
        "      test_data+=[(feature_extract(review),category)for review in test]\n",
        "    random.shuffle(train_data)\n",
        "    random.shuffle(test_data)\n",
        "\n",
        "    return train_data,test_data"
      ],
      "execution_count": 89,
      "outputs": []
    },
    {
      "cell_type": "markdown",
      "metadata": {
        "id": "1N3LWwBYICPP"
      },
      "source": [
        "When you have run the cell below, your unique training and testing samples will be stored in `training_data` and `testing_data`"
      ]
    },
    {
      "cell_type": "code",
      "metadata": {
        "id": "HJLegkdPFUJA",
        "outputId": "ab4486bc-bbe3-420f-80b4-e954c1b08ef4",
        "colab": {
          "base_uri": "https://localhost:8080/"
        }
      },
      "source": [
        "#do not change the code in this cell\n",
        "training_data,testing_data=get_training_test_data()\n",
        "print(\"The amount of training data is {}\".format(len(training_data)))\n",
        "print(\"The amount of testing data is {}\".format(len(testing_data)))\n",
        "print(\"The representation of a single data item is below\")\n",
        "print(training_data[0])"
      ],
      "execution_count": 90,
      "outputs": [
        {
          "output_type": "stream",
          "text": [
            "The amount of training data is 6526\n",
            "The amount of testing data is 2799\n",
            "The representation of a single data item is below\n",
            "({'We': True, \"'ll\": True, 'keep': True, 'this': True, 'one': True, 'simple': True, ':': True, \"-'Aliens\": True, \"'\": True, 'is': True, 'the': True, 'greatest': True, 'action': True, 'movie': True, 'of': True, 'all-time': True, ',': True, 'and': True, 'it': True, \"'s\": True, 'not': True, 'a': True, 'bad': True, 'horror': True, 'either': True, '.': True, 'It': True, 'more': True, 'unremittingly': True, 'intense': True, 'movies': True, 'The': True, 'final': True, 'third': True, 'just': True, 'relentless': True, 'even': True, 'various': True, 'slow': True, 'parts': True, 'have': True, 'an': True, 'undeniable': True, 'electricity': True, 'to': True, 'them': True, 'after': True, 'like': True, '10': True, 'viewings': True, 'on': True, 'my': True, 'part': True, 'absolute': True, 'masterpiece': True, 'practical': True, 'special': True, 'effects': True, 'aliens': True, 'themselves': True, 'set-design': True, 'props': True, 'costumes': True, 'etc': True, 'All': True, 'brilliant': True, 'combination': True, 'all': True, 'disparate': True, 'elements': True, 'may': True, 'be': True, 'completely': True, 'seamless': True, 'but': True, 'surprisingly': True, 'close': True, 'helluva': True, 'lot': True, 'convincing': True, 'than': True, 'total': True, 'CGI': True, 'films': True, 'inflicted': True, 'us': True, 'so': True, 'much': True, 'nowadays': True, '(': True, 'I': True, \"'m\": True, 'those': True, 'knee-jerk': True, 'opposed': True, 'people': True, 'do': True, \"n't\": True, 'think': True, 'you': True, 'should': True, 'use': True, 'when': True, 'can': True, 'done': True, 'well': True, 'with': True, 'which': True, 'naturally': True, 'modern': True, 'practice': True, 'using': True, 'at': True, 'times': True, 'for': True, 'things': True, 'no': True, 'apparent': True, 'reason': True, ')': True, '-It': True, 'got': True, 'some': True, 'atypically': True, 'memorable': True, 'good': True, 'characters': True, 'acting': True, 'action/sci-fi/horror': True, 'Yeah': True, 'many': True, 'are': True, 'kinda': True, 'cliched': True, 'they': True, \"'re\": True, 'well-done': True, 'cliches': True, 'anyway': True, 'Weaver': True, 'really': True, 'comes': True, 'into': True, 'her': True, 'own': True, 'as': True, 'Ripley': True, 'making': True, 'quite': True, 'bit': True, 'interesting': True, 'likable': True, 'she': True, 'was': True, 'first': True, 'time': True, 'around': True, 'while': True, 'still': True, 'basically': True, 'seeming': True, 'same': True, 'person': True, 'Furthermore': True, 'Michael': True, 'Biehn': True, 'Lance': True, 'Henricksen': True, 'give': True, 'their': True, 'definitive': True, 'performances': True, '-If': True, 'or': True, 'another': True, \"'ve\": True, 'never': True, 'actually': True, 'seen': True, \"'Aliens\": True, 'would': True, 'recommend': True, 'watch': True, 'theatrical': True, 'cut': True, 'Once': True, 'already': True, 'know': True, 'overall': True, 'plot': True, 'Director': True, 'Cut': True, 'better': True, 'stuff': True, 'that': True, 'added': True, 'in': True, 'cool': True, 'tips': True, 'its': True, 'hand': True, 'little': True, 'too': True, 'early': True, 'best': True, 'away': True, 'info': True, 'Not': True, 'matters': True, 'way': True, 'This': True, 'awesome': True, 'Watch': True, 'lame': True, 'forever': True, 'Grade': True}, 'dvd')\n"
          ],
          "name": "stdout"
        }
      ]
    },
    {
      "cell_type": "markdown",
      "metadata": {
        "id": "5f6h0ON9I4NT"
      },
      "source": [
        "1) Use your training data to find\n",
        "a) the top 20 words which occur more frequently in book reviews than in dvd reviews\n",
        "b) the top 20 words which occur more frequently in dvd reviews than book reviews\n",
        "Discuss what pre-processing techniques you have applied (or not applied) in answering this question, and why. [20%]"
      ]
    },
    {
      "cell_type": "code",
      "metadata": {
        "id": "5wJ-ajVeFYjr",
        "outputId": "4a55158e-0971-436a-abf5-1d9f153d3054",
        "colab": {
          "base_uri": "https://localhost:8080/"
        }
      },
      "source": [
        "import nltk\n",
        "nltk.download('wordnet')\n",
        "from nltk.stem.wordnet import WordNetLemmatizer\n",
        "from nltk.probability import FreqDist\n",
        "from functools import reduce\n",
        "\n",
        "def get_book_dvd_training_data(training_data):\n",
        "  \"\"\"\n",
        "    Get book and dvd review training data\n",
        "    :param training_data: A nested list of dvd and book review data\n",
        "    :return: pair of lists where the first element of the pair is a list of the book training data and the second is a list of the dvd training data.\n",
        "    \"\"\"\n",
        "  book_train = []\n",
        "  dvd_train = []\n",
        "  for (docs,label) in training_data:\n",
        "    if 'book' in label:\n",
        "      book_train +=docs.keys()\n",
        "    else:\n",
        "      dvd_train +=docs.keys()\n",
        "\n",
        "  return book_train,dvd_train\n",
        "\n",
        "def frequent_words_in_book_dvd(book_train,dvd_train):\n",
        "  \"\"\"\n",
        "    Get the words and the number of times certain words occur from the book training data and dvd training data\n",
        "    :param book_train: A list of book review data\n",
        "    :param dvd_train: A list of dvd review data\n",
        "    :return: pair of dictionaries where the first element is a dictionary, where the keys are words occurring in book reviews and the values are the number of times a certain word occurs,\n",
        "             and the second is a dictionary, where the keys are words occurring in DVD reviews and the values are the number of times a certain word occurs.\n",
        "    \"\"\"\n",
        "  book_train,dvd_train = get_book_dvd_training_data(training_data)\n",
        "  wl = WordNetLemmatizer()\n",
        "  lemma_book = [wl.lemmatize(word) for word in book_train]                #Break a word down into it's root word\n",
        "  lemma_dvd = [wl.lemmatize(word) for word in dvd_train]\n",
        "  lower_book = [word.lower() for word in lemma_book]                      #Convert all words to lower case\n",
        "  lower_dvd =  [word.lower() for word in lemma_dvd]\n",
        "  filter_book = [word for word in lower_book if word.isalpha() and word not in stop]    #Filter the words which solely contain characters and remove the stopwords(the,a,and...)\n",
        "  filter_dvd = [word for word in lower_dvd if word.isalpha() and word not in stop]\n",
        "  book_frequ = FreqDist(filter_book)\n",
        "  dvd_frequ = FreqDist(filter_dvd)\n",
        "  return book_frequ,dvd_frequ"
      ],
      "execution_count": 91,
      "outputs": [
        {
          "output_type": "stream",
          "text": [
            "[nltk_data] Downloading package wordnet to /root/nltk_data...\n",
            "[nltk_data]   Package wordnet is already up-to-date!\n"
          ],
          "name": "stdout"
        }
      ]
    },
    {
      "cell_type": "code",
      "metadata": {
        "id": "xOCCcZDOKirm"
      },
      "source": [
        "stop = stopwords.words('english')\n",
        "book_train,dvd_train = get_book_dvd_training_data(training_data)\n",
        "book_freqdist,dvd_freqdist = frequent_words_in_book_dvd(book_train,dvd_train)\n",
        "\n",
        "def top_words_book_dvd(top_words_class_A_compared_to_class_B,class_B,top):\n",
        "  \"\"\"\n",
        "    Get the most frequent words from the book training data and dvd training data\n",
        "    :param dvd_freqdist: A dicitonary of dvd review data, where the keys are words and the values are the number of times those words occur\n",
        "    :param book_freqdist: A dicitonary of book review data, where the keys are words and the values are the number of times those words occur\n",
        "    :param top: The number of top words occuring in both, dvd and book reviews\n",
        "    :return: A list of the top words, occuring in book reviews or dvd reviews (depends which parameter is entered first)\n",
        "    \"\"\"\n",
        "  difference = [(w,f-class_B.get(w,0)) for (w,f) in top_words_class_A_compared_to_class_B.most_common()]   #Get the most common words in class A (e.g book) reviews, and compare how often these occur in class B (dvd)\n",
        "  sortediff = sorted(difference,key=lambda pair:pair[1],reverse=True) \n",
        "  top_words = [w for (w,f) in sortediff]                         \n",
        "  return top_words[:top]"
      ],
      "execution_count": 92,
      "outputs": []
    },
    {
      "cell_type": "code",
      "metadata": {
        "id": "sWUMe5beKtgz",
        "outputId": "8826d826-f7d2-4447-f915-91edae7960dd",
        "colab": {
          "base_uri": "https://localhost:8080/"
        }
      },
      "source": [
        "top_dvd=top_words_book_dvd(dvd_freqdist,book_freqdist,20)\n",
        "print(\"These are the most frequent words in dvd reviews\")\n",
        "print(top_dvd)\n",
        "\n",
        "top_book=top_words_book_dvd(book_freqdist,dvd_freqdist,20)\n",
        "print(\"These are the most frequent words in book reviews\")\n",
        "print(top_book)"
      ],
      "execution_count": 93,
      "outputs": [
        {
          "output_type": "stream",
          "text": [
            "These are the most frequent words in dvd reviews\n",
            "['movie', 'film', 'dvd', 'watch', 'one', 'scene', 'great', 'wa', 'see', 'like', 'show', 'get', 'love', 'time', 'good', 'watching', 'seen', 'performance', 'actor', 'ha']\n",
            "These are the most frequent words in book reviews\n",
            "['book', 'read', 'author', 'reading', 'reader', 'page', 'writing', 'novel', 'written', 'chapter', 'information', 'example', 'business', 'history', 'recipe', 'research', 'topic', 'idea', 'description', 'subject']\n"
          ],
          "name": "stdout"
        }
      ]
    },
    {
      "cell_type": "markdown",
      "metadata": {
        "id": "CZmZ3u2_mIBh"
      },
      "source": [
        "To find the 20 most frequent words in dvd and book reviews, we must first get all of the tokens which occur in both dvd and book reviews from the training data.\n",
        "\n",
        "**Note** that the training data is represented as a nested list(document,label) where in the document(represented as a dicitonary) every key is a token; the review data has been **tokenized** (a pre-processing technique, where the tokens are separated by whitespace in the review string, and have been imputed into a list), followed by the value true. Label is the class a document belongs to, it is either dvd or book.\n",
        "\n",
        "To separate the book and dvd review data from the training data we run a loop around the entire training data, and separate it into a list of words occuring in book reviews and a list of words occuring in dvd reviews. To acquire the words, we use the label from the training data to categorize the words into different classes (dvd or book).\n",
        "\n",
        "Then, we call a method called FreqDist to get how often do the tokens occur in each of our classes.\n",
        "\n",
        "Finally we get the tokens which occur more frequently in one class than the other, and return the top 20 words occuring in each class.\n",
        "\n",
        "The pre processing techniques were used when putting all of the words from the reviews into lists. The techniques chosen were **case normalisation**, because by setting all words to lower case, the frequency of certain words occuring increases,**number removal** because we want to get the most frequent words, not numbers and **punctuation and stopword removal** because they occur very frequently in all documents, which doesn't help us in finding which words occur more in one document or the other. **Lemmatisation** was also used, because it increases the frequency of a particular word (it removes the affixes, number, gender etc.). **Stemming was not used**, as it can produce errors of commission, e.g organization does not derive to organ, which is what stemming would do. **Sentence segmentation was not used**, as when the training data was created, all of the words in every review where split into single tokens instead of sentences.Also, **Number normalisation was not used**, as we are only interested in the most frequent words, not numbers (we remove the numbers, see number removal). In addition to that, **alphabetical ordering** was not used either, as we are not interested in ordering the words from the reviews alphabetically."
      ]
    },
    {
      "cell_type": "markdown",
      "metadata": {
        "id": "TApOQE6vND20"
      },
      "source": [
        "2) Design, build and test a word list classifier to classify reviews as being from the book domain or from the dvd domain.  Make sure you discuss 1) how you decide the lengths and contents of the word lists and ii) accuracy, precision and recall of your final classifier.[30%]"
      ]
    },
    {
      "cell_type": "code",
      "metadata": {
        "id": "BThDMrcmODJy"
      },
      "source": [
        "from nltk.classify.api import ClassifierI  \n",
        "import random\n",
        "# Classifier class. This class is used to classify documents into book reviews and dvd reviews\n",
        "#Initialise the class, with the most frequent words in book and dvd reviews\n",
        "    #:param self: Represents instance of the class\n",
        "    #:param dvd: A list of the most frequent words in dvd reviews\n",
        "    #:param book: A list of the most frequent words in book reviews\n",
        "class Simple_classifier_dvd_book(ClassifierI):\n",
        "  def __init__(self,dvd,book):\n",
        "    self._dvd = dvd\n",
        "    self._book = book\n",
        "\n",
        "  def classify(self, words):\n",
        "    \"\"\"\n",
        "    Classifies if a list of words belongs to the book reviews or dvd reviews\n",
        "    :param self: Represents instance of the class\n",
        "    :param words: A list of strings\n",
        "    :return: If the words that appear in the list also appear in the most frequent words in dvd reviews, return \"dvd\"\n",
        "             else if the words that appear in the list also appear in the most frequent words in book reviews, return \"book\".\n",
        "             If the list does not belong to neither book or dvd reviews, return \"book\".\n",
        "    \"\"\"\n",
        "    score = 0\n",
        "    for word in words:\n",
        "      if word in self._book:\n",
        "        score = score + 1\n",
        "      if word in self._dvd:\n",
        "        score = score-1\n",
        "    if score == 0:                    #If classifier doesn't know to which class a review belongs to, it takes a guess\n",
        "      score = random.choice((-1,1))\n",
        "    return \"dvd\" if score < 0 else \"book\"   \n",
        "\n"
      ],
      "execution_count": 94,
      "outputs": []
    },
    {
      "cell_type": "code",
      "metadata": {
        "id": "BCjcal0H7yQI"
      },
      "source": [
        "#An extension of the Classifier_dvd_book. Here we implement a method for the classifier to train on some training data.\n",
        "#The size of the training data is what the user desires.\n",
        "#Initialises the class with an integer\n",
        "    #:param self: Represents instance of the class\n",
        "    #:param k: The number of reviews the user want to input\n",
        "class BinaryClassifier(Simple_classifier_dvd_book):\n",
        "\n",
        "  def __init__(self,k):\n",
        "    self._k = k\n",
        "\n",
        "  def train(self,training_data):\n",
        "    \"\"\"\n",
        "    Trains the classifier with a certain amount of training data (what the user specified)\n",
        "    :param self: Represents instance of the class\n",
        "    :param training_data: A list of dvd and book review data\n",
        "    \"\"\"\n",
        "    book_train,dvd_train = get_book_dvd_training_data(training_data)\n",
        "    book_freqdist,dvd_freqdist = frequent_words_in_book_dvd(book_train,dvd_train)\n",
        "    self._dvd = top_words_book_dvd(dvd_freqdist,book_freqdist,self._k)\n",
        "    self._book = top_words_book_dvd(book_freqdist,dvd_freqdist,self._k)"
      ],
      "execution_count": 95,
      "outputs": []
    },
    {
      "cell_type": "code",
      "metadata": {
        "id": "OyHbdCc97yYD"
      },
      "source": [
        "def classifier_accuracy(classifier,testing_data):\n",
        "  \"\"\"\n",
        "    Calculates how accurate is the classifier when labelling if a review belongs to a dvd review or book review\n",
        "    :param classifier: Either a BinaryClassifier from the Binary Classifier class or an Naïve Bayes Classifer from the NBclass\n",
        "    :param testing_data: A list of dvd and book review data\n",
        "    \"\"\"\n",
        "  acc = 0\n",
        "  for (doc,label) in testing_data:\n",
        "    if classifier.classify(doc) in label:\n",
        "      acc+=1\n",
        "    else:\n",
        "      0\n",
        "  return acc / (len(testing_data) + 0.0) \n",
        "\n",
        "def get_predictions(classifier):\n",
        "  \"\"\"\n",
        "    Get what the classifier has predicted of the review testing data\n",
        "    :param classifier: Either a BinaryClassifier from the Binary Classifier class or an Naïve Bayes Classifer from the NBclass\n",
        "    \"\"\"\n",
        "  pred = []\n",
        "  for (doc,label) in testing_data:\n",
        "    pred += classifier.classify(doc).split()\n",
        "  return pred\n",
        "\n",
        "def get_goldstandards(classifier):\n",
        "  \"\"\"\n",
        "    Get what the actual label (book or dvd) from the testing data\n",
        "    :param classifier: Either a BinaryClassifier from the Binary Classifier class or an Naïve Bayes Classifer from the NBclass\n",
        "    \"\"\"\n",
        "  true = []\n",
        "  for (doc,label) in testing_data:\n",
        "    true += label.split()\n",
        "  return true"
      ],
      "execution_count": 96,
      "outputs": []
    },
    {
      "cell_type": "code",
      "metadata": {
        "id": "bEHvGIPn55Kr"
      },
      "source": [
        "#Set up a confusion matrix, to check what the True positives, False positives, False negatives and True Negatives for the predicitions and goalstandards\n",
        "#Initialise the class, with the predicitons, goalstandards and classes of the reviews\n",
        "    #:param self: Represents instance of the class\n",
        "    #:param predicitions: A list of the classes of reviews predicited by the classifier\n",
        "    #:param goldstandards: A list of the classes of reviews, which are 100% accurate\n",
        "    #:param classes: A pair of strings, specifying the classes \"book\" and \"dvd\"\n",
        "class ConfusionMatrix:\n",
        "    def __init__(self,predictions,goldstandard,classes=(\"book\",\"dvd\")):\n",
        "        (self.c1,self.c2)=classes\n",
        "        self.TP=0\n",
        "        self.FP=0\n",
        "        self.FN=0\n",
        "        self.TN=0\n",
        "        for p,g in zip(predictions,goldstandard):\n",
        "            if g==self.c1:\n",
        "                if p==self.c1:\n",
        "                    self.TP+=1\n",
        "                else:\n",
        "                    self.FN+=1\n",
        "            \n",
        "            elif p==self.c1:\n",
        "                self.FP+=1\n",
        "            else:\n",
        "                self.TN+=1\n",
        "    \n",
        "    def precision(self):\n",
        "      \"\"\"\n",
        "      Calculates how precise was the classifier when predicting the class\n",
        "    :param self: Represents instance of the class\n",
        "    \"\"\"\n",
        "      p=0\n",
        "      p = self.TP/(self.TP+self.FP)\n",
        "      return p\n",
        "    \n",
        "    def recall(self):\n",
        "      \"\"\"\n",
        "      Calculates the recall of the classifier\n",
        "    :param self: Represents instance of the class\n",
        "    \"\"\"\n",
        "      r=0\n",
        "      r = self.TP/(self.TP+self.FN)\n",
        "      return r\n",
        "\n",
        "    def final_score(self):\n",
        "      \"\"\"\n",
        "      Calculates the final score of the classifier\n",
        "    :param self: Represents instance of the class\n",
        "    \"\"\"\n",
        "      f1 = 0\n",
        "      f1 = 2*(self.TP/(self.TP+self.FP))*(self.TP/(self.TP+self.FN))/(self.TP/(self.TP+self.FP)+self.TP/(self.TP+self.FN))\n",
        "      return f1"
      ],
      "execution_count": 97,
      "outputs": []
    },
    {
      "cell_type": "code",
      "metadata": {
        "id": "hAXllN2_Adoa",
        "outputId": "748bcde4-41d6-4c68-aaaf-5eb6f5886ba0",
        "colab": {
          "base_uri": "https://localhost:8080/"
        }
      },
      "source": [
        "dvd_book_classifier = BinaryClassifier(20)\n",
        "dvd_book_classifier.train(training_data)\n",
        "print(\"This is the classifier's accuracy: {}\".format(classifier_accuracy(dvd_book_classifier,testing_data)))\n",
        "confusion = ConfusionMatrix(get_predictions(dvd_book_classifier),get_goldstandards(dvd_book_classifier))\n",
        "print(\"This is the classifier's precision: {}\".format(confusion.precision()))\n",
        "print(\"This is the classifier's recall: {}\".format(confusion.recall()))\n",
        "print(\"This is the classifier's final score: {}\".format(confusion.final_score()))\n"
      ],
      "execution_count": 98,
      "outputs": [
        {
          "output_type": "stream",
          "text": [
            "This is the classifier's accuracy: 0.8152911754197928\n",
            "This is the classifier's precision: 0.8738317757009346\n",
            "This is the classifier's recall: 0.6498696785403997\n",
            "This is the classifier's final score: 0.7453911310413553\n"
          ],
          "name": "stdout"
        }
      ]
    },
    {
      "cell_type": "markdown",
      "metadata": {
        "id": "jdcQHkqJ_cdS"
      },
      "source": [
        "The classifier has been designed in the following way: The Simple_classifier_dvd_book class, is not trained on data, it just asks for a word list of dvd and book reviews (from exercise 1 input top book and dvd review words) and then classifies a list of words into the dvd class, if the list contains words from the top dvd review list, otherwise it will classify it in the book class if the list contains words from the top book review list. If the list does not contain words from neither of the classes, than the classifier classifies the list into a class at random.\n",
        "The Binary class classifier, is an extension of the Simple_classifier_dvd_book, which trains on a certain amount of the training data (the user inputs a number, which is the amount of training data that the classifier uses), or in other words, it gets the most common n words, n being the number inputed by the user, from book reviews and dvd reviews.\n",
        "\n",
        "\n",
        "\n",
        "\n",
        "For deciding the content and length of the wordlist. The user, inputs the top words occuring in book and dvd reviews, back from excercise 1, and from those list, the user decides how many words from the most frequent words in book and dvd reviews should be included when classifying documents, e.g if the user inputs 20, then the wordlist will contain the top 20 words ocurring in dvd reviews and book reviews. **Note** we decide it is best to use around 20 words for the wordlist, because if there are too many words, like 100, the classifier will have a hard time classifying documents, as the word list for most frequent words in dvd reviews and book reviews will have words which occur in both reviews.\n",
        "\n",
        "Discussing the results of our classifier, we can see that it is quite accurate (correct predictions over the length of the testing data) and precise (the proportion of a class (in this case \"book\") predictions that are correct). But the recall is about 65% (is the proportion of actually class (in this case \"book\") documents that are predicted correctly), meaning that to improve it, we have to reduce the number of false negatives (Document labeled to the class we want, but predicted as being of the other class). Still, our final score 75% which is quite good, because it means that are precision and recall is actually quite high."
      ]
    },
    {
      "cell_type": "markdown",
      "metadata": {
        "id": "LIS9UpmJNEAp"
      },
      "source": [
        "3) Compare the performance of your word list classifier with a Naive Bayes classifier (e.g., from NLTK).  Make sure you discuss the results. [20%]"
      ]
    },
    {
      "cell_type": "code",
      "metadata": {
        "id": "3EdIxRqhY7mn"
      },
      "source": [
        "#Reason I havent imported the Naïve Bayes classifier from utils, is because the assigment specifies that our own code should be included in the notebook rather than imported from elsewhere\n",
        "#This code is not commented, as it is imported from the utils file, nothing has been changed except for the labels, from positive to book and negative to dvd\n",
        "\n",
        "import math\n",
        "class NBClassifier(ClassifierI):\n",
        "    \n",
        "    def __init__(self):\n",
        "        self._labels=[\"dvd\",\"book\"]\n",
        "        pass\n",
        "    \n",
        "    def labels(self): \n",
        "        return self._labels\n",
        "    \n",
        "    def set_known_vocabulary(self,training_data):\n",
        "        known=[]\n",
        "        for doc,label in training_data:\n",
        "            known+=list(doc.keys())\n",
        "        self.known= set(known)\n",
        "    \n",
        "    def set_priors(self,training_data):\n",
        "        priors={}\n",
        "        for (doc,label) in training_data:\n",
        "            priors[label]=priors.get(label,0)+1\n",
        "        total=sum(priors.values())\n",
        "        for key,value in priors.items():\n",
        "            priors[key]=value/total\n",
        "        self.priors=priors\n",
        "        \n",
        "    def set_cond_probs(self,training_data):\n",
        "        conds={}\n",
        "        for(doc,label) in training_data:\n",
        "            classcond=conds.get(label,{})\n",
        "            for word in doc.keys():\n",
        "                classcond[word]=classcond.get(word,0)+1\n",
        "        \n",
        "            conds[label]=classcond\n",
        "    \n",
        "        for label, classcond in conds.items():\n",
        "            for word in self.known:\n",
        "        \n",
        "                classcond[word]=classcond.get(word,0)+1\n",
        "            conds[label]=classcond\n",
        "            \n",
        "        for label,dist in conds.items():\n",
        "            total=sum(dist.values())\n",
        "            conds[label]={key:value/total for (key,value) in dist.items()}\n",
        "        \n",
        "        self.conds=conds\n",
        "    \n",
        "    def train(self,training_data):\n",
        "        self.set_known_vocabulary(training_data)\n",
        "        self.set_priors(training_data)\n",
        "        self.set_cond_probs(training_data)\n",
        "    \n",
        "    def classify(self,doc):\n",
        "        doc_probs={key:math.log(value) for (key,value) in self.priors.items()}\n",
        "        for word in doc.keys():\n",
        "            if word in self.known:\n",
        "                doc_probs={classlabel:sofar+math.log(self.conds[classlabel].get(word,0)) for (classlabel,sofar) in doc_probs.items()}\n",
        "\n",
        "        highprob=max(doc_probs.values())\n",
        "        classes=[c for c in doc_probs.keys() if doc_probs[c]==highprob]\n",
        "        return random.choice(classes)"
      ],
      "execution_count": 99,
      "outputs": []
    },
    {
      "cell_type": "code",
      "metadata": {
        "id": "3YUiYKyrOSA0"
      },
      "source": [
        "nb = NBClassifier()\n",
        "nb.train(training_data)"
      ],
      "execution_count": 100,
      "outputs": []
    },
    {
      "cell_type": "code",
      "metadata": {
        "id": "x5OkeMGN7zMY",
        "outputId": "aa47be01-6481-4f51-a03b-a5991a9de8fe",
        "colab": {
          "base_uri": "https://localhost:8080/"
        }
      },
      "source": [
        "nbc = ConfusionMatrix(get_predictions(nb),get_goldstandards(nb))\n",
        "\n",
        "print(\"This is the NBclassifier's accuracy: {}\".format(classifier_accuracy(nb,testing_data)))\n",
        "print(\"This is the NBclassifier's recall: {}\".format(nbc.recall()))\n",
        "print(\"This is the NBclassifier's precision: {}\".format(nbc.precision()))\n",
        "print(\"This is the NBclassifier's final score: {}\".format(nbc.final_score()))"
      ],
      "execution_count": 101,
      "outputs": [
        {
          "output_type": "stream",
          "text": [
            "This is the NBclassifier's accuracy: 0.9389067524115756\n",
            "This is the NBclassifier's recall: 0.8922675933970461\n",
            "This is the NBclassifier's precision: 0.9562383612662942\n",
            "This is the NBclassifier's final score: 0.9231460674157304\n"
          ],
          "name": "stdout"
        }
      ]
    },
    {
      "cell_type": "markdown",
      "metadata": {
        "id": "kgFqu57B39wu"
      },
      "source": [
        "The Naïve Bayes classifier, uses all of the training data, that is to say, it gets all of the tokens from the training data, unlike our Binary classifier, which only gets a certain amount of training data which is specified by the user. From that training data, the Naïve Bayes classifier sets up class priors, which sets up the probability of a document being in either class dvd reviews or book reviews, it also sets up the conditional probabilities, which are the probabilities of a certain word ocurring in a certain class document, e.g the probability of seeing book in a book reviews document.\n",
        "\n",
        "Discussing the results of our Naïve Bayes classifier. We can see it has 93% accuracy, meaning it almost always predicts the label correctly. It has a 89% recall, the proportion of actually class (in this case \"book\") documents that are predicted correctly and a 95% precision the proportion of a class (in this case \"book\") predictions that are correct. As the Naïve Bayes classifier has a high precision and recall, we can imply that the final score will also be high; 92%."
      ]
    },
    {
      "cell_type": "markdown",
      "metadata": {
        "id": "LGDXaVDqOSfY"
      },
      "source": [
        "4) Design and carry out an experiment into the impact of the amount of training data on each of these classifiers.  Make sure you describe design decisions in your experiment, include a graph of your results and discuss your conclusions. [30%] "
      ]
    },
    {
      "cell_type": "code",
      "metadata": {
        "id": "NWUAkfBQw6O-",
        "outputId": "7629650d-7a64-4d9b-fa60-4d4b2fe5e4bc",
        "colab": {
          "base_uri": "https://localhost:8080/",
          "height": 1000
        }
      },
      "source": [
        "from random import sample\n",
        "samples = [6, 10, 50, 100, 200, 400, 600, 700]\n",
        "\n",
        "classifiers={\"Binary classifier\":BinaryClassifier(20),\n",
        "             \"Naïve Bayes classifier\": NBClassifier()}\n",
        "\n",
        "use=[\"Binary classifier\",\"Naïve Bayes classifier\"]\n",
        "\n",
        "results = []\n",
        "sample_size = random.sample(samples,4)\n",
        "for s in sample_size:\n",
        "  for name,classifier in classifiers.items():\n",
        "    if name in use:\n",
        "      classifier.train(training_data[:s])\n",
        "      accuracy=classifier_accuracy(classifier,testing_data)\n",
        "      cn = ConfusionMatrix(get_predictions(classifier),get_goldstandards(classifier))\n",
        "      precision = cn.precision()\n",
        "      recall = cn.recall()\n",
        "      print(\"The accuracy of {} is {} for training data size {}\".format(name,round(accuracy,2),s))\n",
        "      print(\"The precision of {} is {} for training data size {}\".format(name,round(precision,2),s))\n",
        "      print(\"The recall of {} is {} for training data size {} \\n\".format(name,round(recall,2),s))\n",
        "      results.append((name+\" with size of training data \"+str(s),round(accuracy,2),round(precision,2),round(recall,2)))\n",
        "             \n",
        "df = pd.DataFrame(results,columns= [\"Name of classifier and amount of training data\",\"Accuracy\",\"Precision\",\"Recall\"])\n",
        "display(df)\n",
        "ax = df.plot.bar(title=\"Experimental Results on the amount of training data in classifiers\",legend=False,x=0)\n",
        "ax.set_ylabel(\"Percentage\")\n",
        "ax.set_xlabel(\"Classifiers\")\n",
        "ax.set_ylim(0,1.0)\n"
      ],
      "execution_count": 103,
      "outputs": [
        {
          "output_type": "stream",
          "text": [
            "The accuracy of Binary classifier is 0.82 for training data size 6\n",
            "The precision of Binary classifier is 0.87 for training data size 6\n",
            "The recall of Binary classifier is 0.64 for training data size 6 \n",
            "\n",
            "The accuracy of Naïve Bayes classifier is 0.59 for training data size 6\n",
            "The precision of Naïve Bayes classifier is 1.0 for training data size 6\n",
            "The recall of Naïve Bayes classifier is 0.0 for training data size 6 \n",
            "\n",
            "The accuracy of Binary classifier is 0.81 for training data size 10\n",
            "The precision of Binary classifier is 0.87 for training data size 10\n",
            "The recall of Binary classifier is 0.64 for training data size 10 \n",
            "\n",
            "The accuracy of Naïve Bayes classifier is 0.59 for training data size 10\n",
            "The precision of Naïve Bayes classifier is 0.91 for training data size 10\n",
            "The recall of Naïve Bayes classifier is 0.01 for training data size 10 \n",
            "\n",
            "The accuracy of Binary classifier is 0.82 for training data size 100\n",
            "The precision of Binary classifier is 0.88 for training data size 100\n",
            "The recall of Binary classifier is 0.65 for training data size 100 \n",
            "\n",
            "The accuracy of Naïve Bayes classifier is 0.66 for training data size 100\n",
            "The precision of Naïve Bayes classifier is 0.99 for training data size 100\n",
            "The recall of Naïve Bayes classifier is 0.16 for training data size 100 \n",
            "\n",
            "The accuracy of Binary classifier is 0.82 for training data size 400\n",
            "The precision of Binary classifier is 0.88 for training data size 400\n",
            "The recall of Binary classifier is 0.63 for training data size 400 \n",
            "\n",
            "The accuracy of Naïve Bayes classifier is 0.9 for training data size 400\n",
            "The precision of Naïve Bayes classifier is 0.94 for training data size 400\n",
            "The recall of Naïve Bayes classifier is 0.8 for training data size 400 \n",
            "\n"
          ],
          "name": "stdout"
        },
        {
          "output_type": "display_data",
          "data": {
            "text/html": [
              "<div>\n",
              "<style scoped>\n",
              "    .dataframe tbody tr th:only-of-type {\n",
              "        vertical-align: middle;\n",
              "    }\n",
              "\n",
              "    .dataframe tbody tr th {\n",
              "        vertical-align: top;\n",
              "    }\n",
              "\n",
              "    .dataframe thead th {\n",
              "        text-align: right;\n",
              "    }\n",
              "</style>\n",
              "<table border=\"1\" class=\"dataframe\">\n",
              "  <thead>\n",
              "    <tr style=\"text-align: right;\">\n",
              "      <th></th>\n",
              "      <th>Name of classifier and amount of training data</th>\n",
              "      <th>Accuracy</th>\n",
              "      <th>Precision</th>\n",
              "      <th>Recall</th>\n",
              "    </tr>\n",
              "  </thead>\n",
              "  <tbody>\n",
              "    <tr>\n",
              "      <th>0</th>\n",
              "      <td>Binary classifier with size of training data 6</td>\n",
              "      <td>0.82</td>\n",
              "      <td>0.87</td>\n",
              "      <td>0.64</td>\n",
              "    </tr>\n",
              "    <tr>\n",
              "      <th>1</th>\n",
              "      <td>Naïve Bayes classifier with size of training d...</td>\n",
              "      <td>0.59</td>\n",
              "      <td>1.00</td>\n",
              "      <td>0.00</td>\n",
              "    </tr>\n",
              "    <tr>\n",
              "      <th>2</th>\n",
              "      <td>Binary classifier with size of training data 10</td>\n",
              "      <td>0.81</td>\n",
              "      <td>0.87</td>\n",
              "      <td>0.64</td>\n",
              "    </tr>\n",
              "    <tr>\n",
              "      <th>3</th>\n",
              "      <td>Naïve Bayes classifier with size of training d...</td>\n",
              "      <td>0.59</td>\n",
              "      <td>0.91</td>\n",
              "      <td>0.01</td>\n",
              "    </tr>\n",
              "    <tr>\n",
              "      <th>4</th>\n",
              "      <td>Binary classifier with size of training data 100</td>\n",
              "      <td>0.82</td>\n",
              "      <td>0.88</td>\n",
              "      <td>0.65</td>\n",
              "    </tr>\n",
              "    <tr>\n",
              "      <th>5</th>\n",
              "      <td>Naïve Bayes classifier with size of training d...</td>\n",
              "      <td>0.66</td>\n",
              "      <td>0.99</td>\n",
              "      <td>0.16</td>\n",
              "    </tr>\n",
              "    <tr>\n",
              "      <th>6</th>\n",
              "      <td>Binary classifier with size of training data 400</td>\n",
              "      <td>0.82</td>\n",
              "      <td>0.88</td>\n",
              "      <td>0.63</td>\n",
              "    </tr>\n",
              "    <tr>\n",
              "      <th>7</th>\n",
              "      <td>Naïve Bayes classifier with size of training d...</td>\n",
              "      <td>0.90</td>\n",
              "      <td>0.94</td>\n",
              "      <td>0.80</td>\n",
              "    </tr>\n",
              "  </tbody>\n",
              "</table>\n",
              "</div>"
            ],
            "text/plain": [
              "      Name of classifier and amount of training data  ...  Recall\n",
              "0     Binary classifier with size of training data 6  ...    0.64\n",
              "1  Naïve Bayes classifier with size of training d...  ...    0.00\n",
              "2    Binary classifier with size of training data 10  ...    0.64\n",
              "3  Naïve Bayes classifier with size of training d...  ...    0.01\n",
              "4   Binary classifier with size of training data 100  ...    0.65\n",
              "5  Naïve Bayes classifier with size of training d...  ...    0.16\n",
              "6   Binary classifier with size of training data 400  ...    0.63\n",
              "7  Naïve Bayes classifier with size of training d...  ...    0.80\n",
              "\n",
              "[8 rows x 4 columns]"
            ]
          },
          "metadata": {
            "tags": []
          }
        },
        {
          "output_type": "execute_result",
          "data": {
            "text/plain": [
              "(0.0, 1.0)"
            ]
          },
          "metadata": {
            "tags": []
          },
          "execution_count": 103
        },
        {
          "output_type": "display_data",
          "data": {
            "image/png": "[encoded data removed]",
            "text/plain": [
              "<Figure size 432x288 with 1 Axes>"
            ]
          },
          "metadata": {
            "tags": [],
            "needs_background": "light"
          }
        }
      ]
    },
    {
      "cell_type": "code",
      "metadata": {
        "id": "gAx-aOfGOi9Y",
        "outputId": "73c6bf36-673e-454b-d84a-66453d4f597c",
        "colab": {
          "base_uri": "https://localhost:8080/",
          "height": 297
        }
      },
      "source": [
        "from random import sample\n",
        "samples = [1, 10, 50, 100, 200, 400, 600, 700]\n",
        "\n",
        "classifiers={\"Binary classifier\":BinaryClassifier(20),\n",
        "             \"Naïve Bayes classifier\": NBClassifier()}\n",
        "\n",
        "use=[\"Binary classifier\",\"Naïve Bayes classifier\"]\n",
        "\n",
        "results = []\n",
        "sample_size = random.sample(samples,4)\n",
        "for s in sample_size:\n",
        "  for name,classifier in classifiers.items():\n",
        "    if name in use:\n",
        "      classifier.train(training_data[:s])\n",
        "      cn = ConfusionMatrix(get_predictions(classifier),get_goldstandards(classifier))\n",
        "      results.append((name+\"'s size of training data \"+str(s),cn.TP,cn.FP,cn.TN,cn.FN))\n",
        "             \n",
        "df = pd.DataFrame(results,columns= [\"Name of classifier and amount of training data\",\"True positives\",\"False Positives\",\"True Negatives\", \"False Negatives\"])\n",
        "display(df)"
      ],
      "execution_count": 104,
      "outputs": [
        {
          "output_type": "display_data",
          "data": {
            "text/html": [
              "<div>\n",
              "<style scoped>\n",
              "    .dataframe tbody tr th:only-of-type {\n",
              "        vertical-align: middle;\n",
              "    }\n",
              "\n",
              "    .dataframe tbody tr th {\n",
              "        vertical-align: top;\n",
              "    }\n",
              "\n",
              "    .dataframe thead th {\n",
              "        text-align: right;\n",
              "    }\n",
              "</style>\n",
              "<table border=\"1\" class=\"dataframe\">\n",
              "  <thead>\n",
              "    <tr style=\"text-align: right;\">\n",
              "      <th></th>\n",
              "      <th>Name of classifier and amount of training data</th>\n",
              "      <th>True positives</th>\n",
              "      <th>False Positives</th>\n",
              "      <th>True Negatives</th>\n",
              "      <th>False Negatives</th>\n",
              "    </tr>\n",
              "  </thead>\n",
              "  <tbody>\n",
              "    <tr>\n",
              "      <th>0</th>\n",
              "      <td>Binary classifier's size of training data 400</td>\n",
              "      <td>737</td>\n",
              "      <td>104</td>\n",
              "      <td>1544</td>\n",
              "      <td>414</td>\n",
              "    </tr>\n",
              "    <tr>\n",
              "      <th>1</th>\n",
              "      <td>Naïve Bayes classifier's size of training data...</td>\n",
              "      <td>916</td>\n",
              "      <td>56</td>\n",
              "      <td>1592</td>\n",
              "      <td>235</td>\n",
              "    </tr>\n",
              "    <tr>\n",
              "      <th>2</th>\n",
              "      <td>Binary classifier's size of training data 10</td>\n",
              "      <td>734</td>\n",
              "      <td>104</td>\n",
              "      <td>1544</td>\n",
              "      <td>417</td>\n",
              "    </tr>\n",
              "    <tr>\n",
              "      <th>3</th>\n",
              "      <td>Naïve Bayes classifier's size of training data 10</td>\n",
              "      <td>10</td>\n",
              "      <td>1</td>\n",
              "      <td>1647</td>\n",
              "      <td>1141</td>\n",
              "    </tr>\n",
              "    <tr>\n",
              "      <th>4</th>\n",
              "      <td>Binary classifier's size of training data 700</td>\n",
              "      <td>737</td>\n",
              "      <td>111</td>\n",
              "      <td>1537</td>\n",
              "      <td>414</td>\n",
              "    </tr>\n",
              "    <tr>\n",
              "      <th>5</th>\n",
              "      <td>Naïve Bayes classifier's size of training data...</td>\n",
              "      <td>960</td>\n",
              "      <td>51</td>\n",
              "      <td>1597</td>\n",
              "      <td>191</td>\n",
              "    </tr>\n",
              "    <tr>\n",
              "      <th>6</th>\n",
              "      <td>Binary classifier's size of training data 100</td>\n",
              "      <td>747</td>\n",
              "      <td>107</td>\n",
              "      <td>1541</td>\n",
              "      <td>404</td>\n",
              "    </tr>\n",
              "    <tr>\n",
              "      <th>7</th>\n",
              "      <td>Naïve Bayes classifier's size of training data...</td>\n",
              "      <td>188</td>\n",
              "      <td>2</td>\n",
              "      <td>1646</td>\n",
              "      <td>963</td>\n",
              "    </tr>\n",
              "  </tbody>\n",
              "</table>\n",
              "</div>"
            ],
            "text/plain": [
              "      Name of classifier and amount of training data  ...  False Negatives\n",
              "0      Binary classifier's size of training data 400  ...              414\n",
              "1  Naïve Bayes classifier's size of training data...  ...              235\n",
              "2       Binary classifier's size of training data 10  ...              417\n",
              "3  Naïve Bayes classifier's size of training data 10  ...             1141\n",
              "4      Binary classifier's size of training data 700  ...              414\n",
              "5  Naïve Bayes classifier's size of training data...  ...              191\n",
              "6      Binary classifier's size of training data 100  ...              404\n",
              "7  Naïve Bayes classifier's size of training data...  ...              963\n",
              "\n",
              "[8 rows x 5 columns]"
            ]
          },
          "metadata": {
            "tags": []
          }
        }
      ]
    },
    {
      "cell_type": "markdown",
      "metadata": {
        "id": "8JPxfBdJNEJx"
      },
      "source": [
        "These experiments are designed to see the impact on training data on Binary and Naïve Bayes classifiers, the amount of training data is chosen randomly, from the random.sample() function as we can see above.\n",
        "\n",
        "If we look at the precision and the recall of the Binary classifier when a big amount of training data is imputed, the precision is quite high, but the recall is low. The reason for this is because for the precision, it is reducing the number of **False positives**, because it is not predicting our desired class(\"book\") as much, the goldstandard being the other class (\"dvd\"), however, as it is not predicting our desired class as much it is increasing the number of **False negatives** (goldstandard being \"book\", but predicition \"dvd\" which makes the recall smaller. If we imput less training data the opposite happens, the number of **False positives** increases and reduces the number of **False negatives**.\n",
        "\n",
        "For the Naïve Bayes classifier, we see that the amount of training data has a great impact on its accuracy, the lesser the training data the less accurate. This occurs because the Naïve Bayes classifier relies heavily on the probabilities of words occuring in a particular class document, with little training data, the Naïve Bayes classifier has a smaller vocabulary and can't tell wether a document belongs to the book or dvd class, unless the document contains words which appear in the Naïve Bayes classifier very limited vocabulary. For the precision and the recall, the reason the precision is so high when little training data is used is because the number of **False positives** is 0, because it has not predicted our desired class (\"book\") at any moment the goldstandard being the other class (\"dvd\"), still, the number of **False negatives** is reasonably high, meaning the recall is going to be very small. Unlike Binary classifiers, Naïve Bayes classifiers have high precision and high recall when lots of training data is used, because the number of **True positives** is increasing, which means that the more the training data, the more the classifier predicts correctly the desired class (in this case \"book)\n",
        "\n",
        "In conclusion, we can argue the more training data, the more precision and lesser recall, and the lesser the training data, the more recall and less precision. We have also concluded that the performance of the naïve bayes classifier has the best accuracy and final score, if it has trained from a big amount of training data."
      ]
    },
    {
      "cell_type": "code",
      "metadata": {
        "id": "34rdlS_iPov6",
        "outputId": "b0494a86-547f-4dcf-f074-e6160da2aeff",
        "colab": {
          "base_uri": "https://localhost:8080/"
        }
      },
      "source": [
        "##This code will word count all of the markdown cells in the notebook saved at filepath\n",
        "##Running it before providing any answers shows that the questions have a word count of 388\n",
        "\n",
        "import io\n",
        "from nbformat import current\n",
        "\n",
        "filepath=\"/content/drive/My Drive/NLE Notebooks/NLE assignment/NLEassignment1.ipynb\"\n",
        "question_count=388\n",
        "\n",
        "with io.open(filepath, 'r', encoding='utf-8') as f:\n",
        "    nb = current.read(f, 'json')\n",
        "\n",
        "word_count = 0\n",
        "for cell in nb.worksheets[0].cells:\n",
        "    if cell.cell_type == \"markdown\":\n",
        "        word_count += len(cell['source'].replace('#', '').lstrip().split(' '))\n",
        "print(\"Submission length is {}\".format(word_count-question_count))"
      ],
      "execution_count": 105,
      "outputs": [
        {
          "output_type": "stream",
          "text": [
            "Submission length is 1530\n"
          ],
          "name": "stdout"
        }
      ]
    },
    {
      "cell_type": "code",
      "metadata": {
        "id": "PtqCcG6wPsmf",
        "outputId": "dbbefc99-8e2a-484f-e8cf-08f3a0663c70",
        "colab": {
          "base_uri": "https://localhost:8080/"
        }
      },
      "source": [
        "print(\"The length of the coursework is {} words\".format(word_count-question_count))"
      ],
      "execution_count": 106,
      "outputs": [
        {
          "output_type": "stream",
          "text": [
            "The length of the coursework is 1530 words\n"
          ],
          "name": "stdout"
        }
      ]
    }
  ]
}